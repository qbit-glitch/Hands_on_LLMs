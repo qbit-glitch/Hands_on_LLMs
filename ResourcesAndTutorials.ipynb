{
 "cells": [
  {
   "cell_type": "markdown",
   "id": "f7ebb03e-61d7-48a9-88fd-8d158599978a",
   "metadata": {},
   "source": [
    "# Hands On Large Language Models\n",
    "\n",
    "Here are some very useful resources to follow along with this book. It is highly recommended to go through these resources to fill the knowledge gaps and get an in-depth understanding of the topics covered in this book.\n",
    "\n",
    "## Chapter 1 : "
   ]
  },
  {
   "cell_type": "markdown",
   "id": "f08f95c8-c46b-4495-a432-2d227fd2f78c",
   "metadata": {},
   "source": [
    "## Chapter 7 : Advanced Text Generation Techniques and Tools\n",
    "\n",
    "### Quantization and Quantized Models\n",
    "- [ ] Youtube Video : <a  href =\"https://youtu.be/mNE_d-C82lI?si=ShjuV7EtvCQ4mSOf\"> Which Quantization Method is Right for You? (GPTQ vs. GGUF vs. AWQ) </a>\n",
    "- [ ] Colab Notebook : <a href = \"https://colab.research.google.com/drive/1rt318Ew-5dDw21YZx2zK2vnxbsuDAchH?usp=sharing\" > Which Quantization Method is Right for You?(GPTQ vs. GGUF vs. AWQ) </a>\n",
    "- [ ] Blog : <a href = \"https://newsletter.maartengrootendorst.com/p/a-visual-guide-to-quantization\"> A Visual Guide to Quantization </a>"
   ]
  },
  {
   "cell_type": "code",
   "execution_count": null,
   "id": "d3f37a3a-b10d-4af5-af90-058d37d08a00",
   "metadata": {},
   "outputs": [],
   "source": []
  }
 ],
 "metadata": {
  "kernelspec": {
   "display_name": "HandsOnLLMs",
   "language": "python",
   "name": "handsonllms"
  },
  "language_info": {
   "codemirror_mode": {
    "name": "ipython",
    "version": 3
   },
   "file_extension": ".py",
   "mimetype": "text/x-python",
   "name": "python",
   "nbconvert_exporter": "python",
   "pygments_lexer": "ipython3",
   "version": "3.10.13"
  }
 },
 "nbformat": 4,
 "nbformat_minor": 5
}
